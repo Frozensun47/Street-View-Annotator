{
 "cells": [
  {
   "cell_type": "code",
   "execution_count": 4,
   "metadata": {},
   "outputs": [
    {
     "name": "stdout",
     "output_type": "stream",
     "text": [
      "Original DataFrame:\n",
      "   latitude  longitude  fov  is_panorama direction  zoom_level  \\\n",
      "0   40.7128   -74.0060   90         True     north          10   \n",
      "1   37.7749  -122.4194  120        False     south          15   \n",
      "2   34.0522  -118.2437   80         True      east          12   \n",
      "\n",
      "                                     encoded_params  \n",
      "0      NDAuNzEyOCwtNzQuMDA2LDkwLFRydWUsbm9ydGgsMTA=  \n",
      "1  MzcuNzc0OSwtMTIyLjQxOTQsMTIwLEZhbHNlLHNvdXRoLDE1  \n",
      "2      MzQuMDUyMiwtMTE4LjI0MzcsODAsVHJ1ZSxlYXN0LDEy  \n",
      "\n",
      "DataFrame with Decoded Parameters:\n",
      "   latitude  longitude  fov  is_panorama direction  zoom_level  \\\n",
      "0   40.7128   -74.0060   90         True     north          10   \n",
      "1   37.7749  -122.4194  120        False     south          15   \n",
      "2   34.0522  -118.2437   80         True      east          12   \n",
      "\n",
      "                                     encoded_params  \\\n",
      "0      NDAuNzEyOCwtNzQuMDA2LDkwLFRydWUsbm9ydGgsMTA=   \n",
      "1  MzcuNzc0OSwtMTIyLjQxOTQsMTIwLEZhbHNlLHNvdXRoLDE1   \n",
      "2      MzQuMDUyMiwtMTE4LjI0MzcsODAsVHJ1ZSxlYXN0LDEy   \n",
      "\n",
      "                                decoded_params  \n",
      "0      [40.7128, -74.006, 90, True, north, 10]  \n",
      "1  [37.7749, -122.4194, 120, False, south, 15]  \n",
      "2     [34.0522, -118.2437, 80, True, east, 12]  \n"
     ]
    }
   ],
   "source": [
    "import pandas as pd\n",
    "import base64\n",
    "\n",
    "# Sample data\n",
    "data = {\n",
    "    'latitude': [40.7128, 37.7749, 34.0522],\n",
    "    'longitude': [-74.0060, -122.4194, -118.2437],\n",
    "    'fov': [90, 120, 80],\n",
    "    'is_panorama': [True, False, True],\n",
    "    'direction': ['north', 'south', 'east'],\n",
    "    'zoom_level': [10, 15, 12]\n",
    "}\n",
    "\n",
    "# Create DataFrame\n",
    "df = pd.DataFrame(data)\n",
    "\n",
    "# Function to encode parameters to base64\n",
    "def encode_parameters(row):\n",
    "    param_string = ','.join(map(str, row.values))\n",
    "    encoded = base64.b64encode(param_string.encode()).decode()\n",
    "    return encoded\n",
    "\n",
    "# Function to decode base64 to parameters\n",
    "def decode_parameters(encoded):\n",
    "    decoded = base64.b64decode(encoded).decode()\n",
    "    return decoded.split(',')\n",
    "\n",
    "# Add encoded column\n",
    "df['encoded_params'] = df.apply(encode_parameters, axis=1)\n",
    "\n",
    "# Display DataFrame\n",
    "print(\"Original DataFrame:\")\n",
    "print(df)\n",
    "\n",
    "# Decode and display original parameters\n",
    "df['decoded_params'] = df['encoded_params'].apply(decode_parameters)\n",
    "print(\"\\nDataFrame with Decoded Parameters:\")\n",
    "print(df)\n"
   ]
  },
  {
   "cell_type": "code",
   "execution_count": null,
   "metadata": {},
   "outputs": [],
   "source": []
  }
 ],
 "metadata": {
  "kernelspec": {
   "display_name": "annotator",
   "language": "python",
   "name": "python3"
  },
  "language_info": {
   "codemirror_mode": {
    "name": "ipython",
    "version": 3
   },
   "file_extension": ".py",
   "mimetype": "text/x-python",
   "name": "python",
   "nbconvert_exporter": "python",
   "pygments_lexer": "ipython3",
   "version": "3.9.18"
  }
 },
 "nbformat": 4,
 "nbformat_minor": 2
}
